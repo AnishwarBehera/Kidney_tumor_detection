{
 "cells": [
  {
   "cell_type": "code",
   "execution_count": null,
   "metadata": {},
   "outputs": [],
   "source": []
  },
  {
   "cell_type": "markdown",
   "metadata": {},
   "source": [
    "# Mlflow tracking\n",
    "MLFLOW_TRACKING_URI=https://dagshub.com/AnishwarBehera/Kidney_tumor_detection.mlflow \\\n",
    "MLFLOW_TRACKING_USERNAME=AnishwarBehera \\\n",
    "MLFLOW_TRACKING_PASSWORD=348c89fcb25fc117e219147dab4210016efeed46 \\\n",
    "python script.py"
   ]
  },
  {
   "cell_type": "markdown",
   "metadata": {},
   "source": []
  },
  {
   "cell_type": "markdown",
   "metadata": {},
   "source": []
  },
  {
   "cell_type": "code",
   "execution_count": null,
   "metadata": {},
   "outputs": [
    {
     "ename": "",
     "evalue": "",
     "output_type": "error",
     "traceback": [
      "\u001b[1;31mThe kernel failed to start as 'TypeAliasType' could not be imported from '/Users/anishwarbehera/anaconda3/envs/kidney/lib/python3.10/site-packages/typing_extensions.py'.\n",
      "\u001b[1;31mClick <a href='https://aka.ms/kernelFailuresModuleImportErrFromFile'>here</a> for more info."
     ]
    }
   ],
   "source": [
    "import os\n",
    "os.environ['MLFLOW_TRACKING_URI']=\"https://dagshub.com/AnishwarBehera/Kidney_tumor_detection.mlflow\"\n",
    "os.environ['MLFLOW_TRACKING_USERNAME']=\"AnishwarBehera\"\n",
    "os.environ['MLFLOW_TRACKING_PASSWORD']=\"348c89fcb25fc117e219147dab4210016efeed46\""
   ]
  },
  {
   "cell_type": "code",
   "execution_count": null,
   "metadata": {},
   "outputs": [],
   "source": []
  }
 ],
 "metadata": {
  "kernelspec": {
   "display_name": "kidney",
   "language": "python",
   "name": "python3"
  },
  "language_info": {
   "name": "python",
   "version": "3.10.14"
  }
 },
 "nbformat": 4,
 "nbformat_minor": 2
}
